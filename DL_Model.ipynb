{
 "cells": [
  {
   "cell_type": "code",
   "execution_count": 29,
   "id": "bacd578f-606a-4559-a5ae-f364dec93013",
   "metadata": {},
   "outputs": [],
   "source": [
    "import pandas as pd"
   ]
  },
  {
   "cell_type": "code",
   "execution_count": 30,
   "id": "4cebf29e-26f7-4152-8675-fb24a6320c0e",
   "metadata": {},
   "outputs": [],
   "source": [
    "# Reading our feature set and it's corresponding labels\n",
    "batting_features = pd.read_csv('batting_new_features.csv')\n",
    "batting_labels = pd.read_csv('batting_labels.csv')\n",
    "batting_labels = batting_labels['man_of_match']"
   ]
  },
  {
   "cell_type": "code",
   "execution_count": 32,
   "id": "f95d5552-f5b3-46ab-930d-ec14ae03940c",
   "metadata": {},
   "outputs": [],
   "source": [
    "# Code to supress future warning\n",
    "import warnings\n",
    "warnings.filterwarnings(\"ignore\", category=FutureWarning)"
   ]
  },
  {
   "cell_type": "code",
   "execution_count": 33,
   "id": "c4a1448c-e187-4491-97b2-f3b0b27094b7",
   "metadata": {},
   "outputs": [],
   "source": [
    "batting_features.columns\n",
    "for column in list(batting_features.columns)[1:11]:\n",
    "    batting_features[column] = (batting_features[column] - batting_features[column].mean()) / batting_features[column].std()"
   ]
  },
  {
   "cell_type": "code",
   "execution_count": 35,
   "id": "bd4acd06-de22-42b3-bb9f-987edafd7fcc",
   "metadata": {},
   "outputs": [],
   "source": [
    "from sklearn.model_selection import train_test_split\n",
    "X_train, X_test, y_train, y_test = train_test_split(batting_features, batting_labels, test_size=0.20, random_state=42)"
   ]
  },
  {
   "cell_type": "code",
   "execution_count": 36,
   "id": "37f71d47-ace7-4395-96b9-78bdcb41d157",
   "metadata": {},
   "outputs": [],
   "source": [
    "X_train = X_train.values\n",
    "X_test = X_test.values\n",
    "y_train = y_train.values\n",
    "y_test = y_test.values"
   ]
  },
  {
   "cell_type": "code",
   "execution_count": 37,
   "id": "e4b4ebdb-fe91-41b3-a993-48f247573d22",
   "metadata": {},
   "outputs": [],
   "source": [
    "import tensorflow as tf\n",
    "from tensorflow.keras.utils import to_categorical"
   ]
  },
  {
   "cell_type": "code",
   "execution_count": 38,
   "id": "52627f21-ed12-4cc3-9a6e-472721d8cb0b",
   "metadata": {},
   "outputs": [],
   "source": [
    "y_train_new = to_categorical(y_train)\n",
    "y_test_new = to_categorical(y_test)"
   ]
  },
  {
   "cell_type": "code",
   "execution_count": 43,
   "id": "740dcc22-0620-4fac-866e-7ec4b334a2d3",
   "metadata": {},
   "outputs": [],
   "source": [
    "inputs = tf.keras.layers.Input(shape=(940,))\n",
    "dense_layer_1 = tf.keras.layers.Dense(512, activation=tf.nn.relu)(inputs)\n",
    "dense_layer_2 = tf.keras.layers.Dense(128, activation=tf.nn.relu)(dense_layer_1)\n",
    "output_layer = tf.keras.layers.Dense(2, activation=tf.nn.softmax)(dense_layer_1)\n",
    "model = tf.keras.Model(inputs=inputs, outputs=output_layer)"
   ]
  },
  {
   "cell_type": "code",
   "execution_count": 45,
   "id": "1dde5dcc-a1b0-4423-b13f-801199e9e922",
   "metadata": {},
   "outputs": [],
   "source": [
    "model.compile(optimizer='adam', \n",
    "              loss=tf.keras.losses.CategoricalCrossentropy(), \n",
    "              metrics=['accuracy']) "
   ]
  },
  {
   "cell_type": "code",
   "execution_count": 46,
   "id": "8b7e4a18-70e5-424b-b4b6-63d0bcce2417",
   "metadata": {},
   "outputs": [
    {
     "name": "stdout",
     "output_type": "stream",
     "text": [
      "(11631, 940)\n",
      "(11631, 2)\n"
     ]
    }
   ],
   "source": [
    "print(X_train.shape)\n",
    "print(y_train_new.shape)"
   ]
  },
  {
   "cell_type": "code",
   "execution_count": 47,
   "id": "3370b02d-6d28-4b3f-850f-ec971c6072ee",
   "metadata": {},
   "outputs": [
    {
     "name": "stdout",
     "output_type": "stream",
     "text": [
      "Epoch 1/10\n",
      "146/146 [==============================] - 2s 8ms/step - loss: 11.9314 - accuracy: 0.9052 - val_loss: 2.5546 - val_accuracy: 0.9454\n",
      "Epoch 2/10\n",
      "146/146 [==============================] - 1s 4ms/step - loss: 7.9803 - accuracy: 0.9120 - val_loss: 0.8928 - val_accuracy: 0.9171\n",
      "Epoch 3/10\n",
      "146/146 [==============================] - 1s 4ms/step - loss: 5.5380 - accuracy: 0.9121 - val_loss: 1.6462 - val_accuracy: 0.9377\n",
      "Epoch 4/10\n",
      "146/146 [==============================] - 1s 4ms/step - loss: 2.4438 - accuracy: 0.9176 - val_loss: 1.2759 - val_accuracy: 0.8517\n",
      "Epoch 5/10\n",
      "146/146 [==============================] - 1s 4ms/step - loss: 5.2054 - accuracy: 0.9210 - val_loss: 0.9380 - val_accuracy: 0.9446\n",
      "Epoch 6/10\n",
      "146/146 [==============================] - 1s 4ms/step - loss: 5.1147 - accuracy: 0.9194 - val_loss: 12.5216 - val_accuracy: 0.9519\n",
      "Epoch 7/10\n",
      "146/146 [==============================] - 1s 4ms/step - loss: 3.5518 - accuracy: 0.9247 - val_loss: 1.8830 - val_accuracy: 0.9514\n",
      "Epoch 8/10\n",
      "146/146 [==============================] - 1s 4ms/step - loss: 1.8410 - accuracy: 0.9334 - val_loss: 0.4753 - val_accuracy: 0.9338\n",
      "Epoch 9/10\n",
      "146/146 [==============================] - 1s 4ms/step - loss: 4.1002 - accuracy: 0.9299 - val_loss: 10.8330 - val_accuracy: 0.9523\n",
      "Epoch 10/10\n",
      "146/146 [==============================] - 1s 4ms/step - loss: 5.2674 - accuracy: 0.9270 - val_loss: 0.6925 - val_accuracy: 0.9510\n"
     ]
    },
    {
     "data": {
      "text/plain": [
       "<keras.callbacks.History at 0x1b3cd7f5e10>"
      ]
     },
     "execution_count": 47,
     "metadata": {},
     "output_type": "execute_result"
    }
   ],
   "source": [
    "model.fit(X_train, y_train_new, batch_size = 64,epochs=10,    \n",
    "          validation_split=0.2) "
   ]
  },
  {
   "cell_type": "code",
   "execution_count": null,
   "id": "1c3d292b-3716-4c4a-a596-c4edea0f62b2",
   "metadata": {},
   "outputs": [],
   "source": [
    "model.evaluate(X_test, y_test_new)"
   ]
  },
  {
   "cell_type": "code",
   "execution_count": null,
   "id": "0462d415-943e-44a7-8a61-a73dc434d356",
   "metadata": {},
   "outputs": [],
   "source": [
    "len(y_test)"
   ]
  }
 ],
 "metadata": {
  "kernelspec": {
   "display_name": "tf",
   "language": "python",
   "name": "tf"
  },
  "language_info": {
   "codemirror_mode": {
    "name": "ipython",
    "version": 3
   },
   "file_extension": ".py",
   "mimetype": "text/x-python",
   "name": "python",
   "nbconvert_exporter": "python",
   "pygments_lexer": "ipython3",
   "version": "3.10.13"
  }
 },
 "nbformat": 4,
 "nbformat_minor": 5
}
