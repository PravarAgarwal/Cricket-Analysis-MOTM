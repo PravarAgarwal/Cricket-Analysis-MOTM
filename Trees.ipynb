{
 "cells": [
  {
   "cell_type": "markdown",
   "id": "c3b08376-153e-4e0a-9357-e59af0b1cd16",
   "metadata": {},
   "source": [
    "# Data Preprocessing"
   ]
  },
  {
   "cell_type": "code",
   "execution_count": 1,
   "id": "d280d6a4-22d6-4eaf-b988-2550fe905802",
   "metadata": {},
   "outputs": [],
   "source": [
    "import pandas as pd"
   ]
  },
  {
   "cell_type": "code",
   "execution_count": 2,
   "id": "4f04203a-1101-4b5f-a3e7-9c9abd17c0e5",
   "metadata": {},
   "outputs": [],
   "source": [
    "# Reading our feature set and it's corresponding labels\n",
    "batting_features = pd.read_csv('batting_new_features.csv')\n",
    "batting_labels = pd.read_csv('batting_labels.csv')\n",
    "batting_labels = batting_labels['man_of_match']"
   ]
  },
  {
   "cell_type": "code",
   "execution_count": 3,
   "id": "61e71d96-417d-4a81-a09d-25fef8b2f512",
   "metadata": {},
   "outputs": [],
   "source": [
    "# Code to supress future warning\n",
    "import warnings\n",
    "warnings.filterwarnings(\"ignore\", category=FutureWarning)"
   ]
  },
  {
   "cell_type": "code",
   "execution_count": 4,
   "id": "3455d55b-36e5-4abc-916a-0a216fc787a2",
   "metadata": {},
   "outputs": [],
   "source": [
    "batting_features.columns\n",
    "for column in list(batting_features.columns)[1:11]:\n",
    "    batting_features[column] = (batting_features[column] - batting_features[column].mean()) / batting_features[column].std()"
   ]
  },
  {
   "cell_type": "markdown",
   "id": "0448fa2d-d724-41fc-bf6d-034da8b96416",
   "metadata": {
    "tags": []
   },
   "source": [
    "# Desicion Tree"
   ]
  },
  {
   "cell_type": "code",
   "execution_count": 5,
   "id": "9e773eb5-5338-4527-8a6d-f32164398037",
   "metadata": {},
   "outputs": [],
   "source": [
    "from sklearn.model_selection import train_test_split\n",
    "X_train, X_test, y_train, y_test = train_test_split(batting_features, batting_labels, test_size=0.20, random_state=42)"
   ]
  },
  {
   "cell_type": "code",
   "execution_count": 6,
   "id": "bc846505-86ae-47a3-bb80-d1e853c72279",
   "metadata": {},
   "outputs": [],
   "source": [
    "from sklearn.tree import DecisionTreeClassifier\n",
    "from sklearn.metrics import accuracy_score\n",
    "\n",
    "# Train the decision tree classifier\n",
    "clf = DecisionTreeClassifier()\n",
    "clf.fit(X_train, y_train)\n",
    "\n",
    "# Make predictions\n",
    "y_pred = clf.predict(X_test)"
   ]
  },
  {
   "cell_type": "code",
   "execution_count": 7,
   "id": "8771c005-4747-4da5-a799-928371a73380",
   "metadata": {},
   "outputs": [
    {
     "name": "stdout",
     "output_type": "stream",
     "text": [
      "Accuracy: 0.9336313617606602\n"
     ]
    }
   ],
   "source": [
    "# Calculate the accuracy\n",
    "accuracy = accuracy_score(y_test, y_pred)\n",
    "print(\"Accuracy:\", accuracy)"
   ]
  },
  {
   "cell_type": "markdown",
   "id": "564a10e5-533b-4c63-a124-592ea27bbf2c",
   "metadata": {},
   "source": [
    "# Random Forest"
   ]
  },
  {
   "cell_type": "code",
   "execution_count": 15,
   "id": "969a0132-6d7f-4927-aa29-8ba494b1323a",
   "metadata": {},
   "outputs": [],
   "source": [
    "# Import necessary libraries\n",
    "from sklearn.ensemble import RandomForestClassifier\n",
    "\n",
    "# Create a Random Forest Classifier\n",
    "clf = RandomForestClassifier(n_estimators=10, random_state=42)\n",
    "\n",
    "# Train the model\n",
    "clf.fit(X_train, y_train)\n",
    "\n",
    "# Make predictions\n",
    "y_pred = clf.predict(X_test)"
   ]
  },
  {
   "cell_type": "code",
   "execution_count": 16,
   "id": "2f27df59-ab32-4dbd-8c0d-ba57437c5c68",
   "metadata": {},
   "outputs": [
    {
     "name": "stdout",
     "output_type": "stream",
     "text": [
      "Accuracy: 0.953232462173315\n"
     ]
    }
   ],
   "source": [
    "# Calculate the accuracy\n",
    "accuracy = accuracy_score(y_test, y_pred)\n",
    "print(\"Accuracy:\", accuracy)"
   ]
  }
 ],
 "metadata": {
  "kernelspec": {
   "display_name": "cricket-MOTM",
   "language": "python",
   "name": "cricket-motm"
  },
  "language_info": {
   "codemirror_mode": {
    "name": "ipython",
    "version": 3
   },
   "file_extension": ".py",
   "mimetype": "text/x-python",
   "name": "python",
   "nbconvert_exporter": "python",
   "pygments_lexer": "ipython3",
   "version": "3.11.4"
  }
 },
 "nbformat": 4,
 "nbformat_minor": 5
}
